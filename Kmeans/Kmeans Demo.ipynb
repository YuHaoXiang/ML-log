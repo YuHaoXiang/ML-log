{
 "cells": [
  {
   "cell_type": "code",
   "execution_count": 1,
   "metadata": {},
   "outputs": [],
   "source": [
    "import matplotlib.pyplot as plt\n",
    "import seaborn as sns\n",
    "import pandas as pd\n",
    "import scipy.io as sio\n",
    "import numpy as np"
   ]
  },
  {
   "cell_type": "code",
   "execution_count": 2,
   "metadata": {},
   "outputs": [],
   "source": [
    "path = './data/ex7data2.mat'\n",
    "data = pd.DataFrame(sio.loadmat(path).get('X'),columns=['X1','X2'])"
   ]
  },
  {
   "cell_type": "markdown",
   "metadata": {},
   "source": [
    "初始化质点"
   ]
  },
  {
   "cell_type": "code",
   "execution_count": 3,
   "metadata": {},
   "outputs": [],
   "source": [
    "K = 3\n",
    "init_centroids = data.sample(K).values"
   ]
  },
  {
   "cell_type": "code",
   "execution_count": 4,
   "metadata": {},
   "outputs": [],
   "source": [
    "data2 = data.copy()"
   ]
  },
  {
   "cell_type": "code",
   "execution_count": 24,
   "metadata": {},
   "outputs": [],
   "source": [
    "C = []\n",
    "cost_list = []\n",
    "for i in range(len(data2)):\n",
    "    x = np.array(data2.iloc[i,:]) #读取数据\n",
    "    x_distances = np.linalg.norm(init_centroids - x,axis=1)  #计算x到每个质点的距离\n",
    "    C.append(np.argmin(x_distances))\n",
    "expand_C_with_centroids = init_centroids[C] #建一个对应每个质点的array\n",
    "data2['C'] = C\n",
    "distances = np.linalg.norm(data2[['X1','X2']]-expand_C_with_centroids,axis=1) #计算每个点到相应的质点的距离\n",
    "cost = np.sum(distances)/len(data2)#求cost\n",
    "cost_list.append(cost)\n",
    "init_centroids = data2.groupby('C',as_index=False).mean().sort_values(by='C').drop('C',axis=1).values#重新分配质点\n",
    "data2 = data2.drop('C',axis=1)"
   ]
  },
  {
   "cell_type": "code",
   "execution_count": 26,
   "metadata": {},
   "outputs": [
    {
     "data": {
      "text/plain": [
       "0.794176363371587"
      ]
     },
     "execution_count": 26,
     "metadata": {},
     "output_type": "execute_result"
    }
   ],
   "source": []
  },
  {
   "cell_type": "code",
   "execution_count": null,
   "metadata": {},
   "outputs": [],
   "source": []
  }
 ],
 "metadata": {
  "kernelspec": {
   "display_name": "Python 3",
   "language": "python",
   "name": "python3"
  },
  "language_info": {
   "codemirror_mode": {
    "name": "ipython",
    "version": 3
   },
   "file_extension": ".py",
   "mimetype": "text/x-python",
   "name": "python",
   "nbconvert_exporter": "python",
   "pygments_lexer": "ipython3",
   "version": "3.6.8"
  }
 },
 "nbformat": 4,
 "nbformat_minor": 2
}
