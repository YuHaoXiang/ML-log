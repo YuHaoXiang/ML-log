{
 "cells": [
  {
   "cell_type": "code",
   "execution_count": 1,
   "metadata": {},
   "outputs": [],
   "source": [
    "import matplotlib.pyplot as plt\n",
    "import seaborn as sns\n",
    "sns.set(context=\"notebook\", style=\"white\")\n",
    "\n",
    "import numpy as np\n",
    "import pandas as pd\n",
    "import scipy.io as sio"
   ]
  },
  {
   "cell_type": "code",
   "execution_count": 8,
   "metadata": {},
   "outputs": [],
   "source": [
    "data = sio.loadmat('./data/ex7data1.mat')"
   ]
  },
  {
   "cell_type": "code",
   "execution_count": 9,
   "metadata": {},
   "outputs": [],
   "source": [
    "X = data.get('X')"
   ]
  },
  {
   "cell_type": "code",
   "execution_count": 13,
   "metadata": {},
   "outputs": [
    {
     "data": {
      "text/plain": [
       "{'__header__': b'MATLAB 5.0 MAT-file, Platform: PCWIN64, Created on: Mon Nov 14 22:41:44 2011',\n",
       " '__version__': '1.0',\n",
       " '__globals__': [],\n",
       " 'X': array([[3.38156267, 3.38911268],\n",
       "        [4.52787538, 5.8541781 ],\n",
       "        [2.65568187, 4.41199472],\n",
       "        [2.76523467, 3.71541365],\n",
       "        [2.84656011, 4.17550645],\n",
       "        [3.89067196, 6.48838087],\n",
       "        [3.47580524, 3.63284876],\n",
       "        [5.91129845, 6.68076853],\n",
       "        [3.92889397, 5.09844661],\n",
       "        [4.56183537, 5.62329929],\n",
       "        [4.57407171, 5.39765069],\n",
       "        [4.37173356, 5.46116549],\n",
       "        [4.19169388, 4.95469359],\n",
       "        [5.24408518, 4.66148767],\n",
       "        [2.8358402 , 3.76801716],\n",
       "        [5.63526969, 6.31211438],\n",
       "        [4.68632968, 5.6652411 ],\n",
       "        [2.85051337, 4.62645627],\n",
       "        [5.1101573 , 7.36319662],\n",
       "        [5.18256377, 4.64650909],\n",
       "        [5.70732809, 6.68103995],\n",
       "        [3.57968458, 4.80278074],\n",
       "        [5.63937773, 6.12043594],\n",
       "        [4.26346851, 4.68942896],\n",
       "        [2.53651693, 3.88449078],\n",
       "        [3.22382902, 4.94255585],\n",
       "        [4.92948801, 5.95501971],\n",
       "        [5.79295774, 5.10839305],\n",
       "        [2.81684824, 4.81895769],\n",
       "        [3.88882414, 5.10036564],\n",
       "        [3.34323419, 5.89301345],\n",
       "        [5.87973414, 5.52141664],\n",
       "        [3.10391912, 3.85710242],\n",
       "        [5.33150572, 4.68074235],\n",
       "        [3.37542687, 4.56537852],\n",
       "        [4.77667888, 6.25435039],\n",
       "        [2.6757463 , 3.73096988],\n",
       "        [5.50027665, 5.67948113],\n",
       "        [1.79709714, 3.24753885],\n",
       "        [4.3225147 , 5.11110472],\n",
       "        [4.42100445, 6.02563978],\n",
       "        [3.17929886, 4.43686032],\n",
       "        [3.03354125, 3.97879278],\n",
       "        [4.6093482 , 5.879792  ],\n",
       "        [2.96378859, 3.30024835],\n",
       "        [3.97176248, 5.40773735],\n",
       "        [1.18023321, 2.87869409],\n",
       "        [1.91895045, 5.07107848],\n",
       "        [3.95524687, 4.5053271 ],\n",
       "        [5.11795499, 6.08507386]])}"
      ]
     },
     "execution_count": 13,
     "metadata": {},
     "output_type": "execute_result"
    }
   ],
   "source": []
  },
  {
   "cell_type": "code",
   "execution_count": null,
   "metadata": {},
   "outputs": [],
   "source": []
  }
 ],
 "metadata": {
  "kernelspec": {
   "display_name": "Python 3",
   "language": "python",
   "name": "python3"
  },
  "language_info": {
   "codemirror_mode": {
    "name": "ipython",
    "version": 3
   },
   "file_extension": ".py",
   "mimetype": "text/x-python",
   "name": "python",
   "nbconvert_exporter": "python",
   "pygments_lexer": "ipython3",
   "version": "3.6.8"
  }
 },
 "nbformat": 4,
 "nbformat_minor": 2
}
